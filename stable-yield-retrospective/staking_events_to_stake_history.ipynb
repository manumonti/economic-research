{
 "cells": [
  {
   "cell_type": "markdown",
   "metadata": {},
   "source": [
    "# Raw staking events to staker activity table Script\n",
    "This script converts the staking events data returned by [Threshold Network Staking Event Dune query](./ThresholdNetworkStakingEvents.sql) to a table that contains stake activity history.\n"
   ]
  },
  {
   "cell_type": "code",
   "execution_count": 1,
   "metadata": {},
   "outputs": [],
   "source": [
    "import pandas as pd\n",
    "\n",
    "staking_events = pd.read_csv(\n",
    "    'StakingEvents2024-12-18.csv', dtype={'amount': str})\n",
    "\n",
    "staking_events[\"amount\"] = staking_events[\"amount\"].apply(int)\n",
    "\n",
    "timestamp_list = staking_events['timestamp']\n",
    "st_prov_list = staking_events.staking_provider.unique().tolist()\n",
    "\n",
    "stakes_history = pd.DataFrame(index=staking_events.index, columns=['timestamp']+st_prov_list)\n",
    "\n",
    "for index, row in staking_events.iterrows():\n",
    "    if index == 0:\n",
    "        stakes_history.iloc[index] = 0\n",
    "        stakes_history.loc[index, 'timestamp'] = row.timestamp\n",
    "        stakes_history.loc[index, row.staking_provider] = row.amount\n",
    "    else:\n",
    "        stakes_history.iloc[index] = stakes_history.iloc[index - 1]\n",
    "        stakes_history.loc[index, 'timestamp'] = row.timestamp\n",
    "        if row.event == \"staked\":\n",
    "            stakes_history.loc[index, row.staking_provider] = row.amount\n",
    "        elif row.event == \"toppedUp\":\n",
    "            stakes_history.loc[index, row.staking_provider] += row.amount\n",
    "        elif row.event == \"unstaked\":\n",
    "            stakes_history.loc[index, row.staking_provider] -= row.amount\n",
    "\n",
    "stakes_history.to_csv('StakesHistory2024-12-18.csv')"
   ]
  }
 ],
 "metadata": {
  "kernelspec": {
   "display_name": "jupyter",
   "language": "python",
   "name": "python3"
  },
  "language_info": {
   "codemirror_mode": {
    "name": "ipython",
    "version": 3
   },
   "file_extension": ".py",
   "mimetype": "text/x-python",
   "name": "python",
   "nbconvert_exporter": "python",
   "pygments_lexer": "ipython3",
   "version": "3.11.6"
  }
 },
 "nbformat": 4,
 "nbformat_minor": 2
}
