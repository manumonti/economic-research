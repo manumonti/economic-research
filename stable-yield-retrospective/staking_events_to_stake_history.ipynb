{
 "cells": [
  {
   "cell_type": "markdown",
   "metadata": {},
   "source": [
    "# Raw staking events to staker activity table Script\n",
    "This script converts the staking events data returned by [Threshold Network Staking Event Dune query](https://dune.com/queries/4418882/7401185/) to a table that contains stake activity history.\n"
   ]
  },
  {
   "cell_type": "code",
   "execution_count": null,
   "metadata": {},
   "outputs": [
    {
     "name": "stdout",
     "output_type": "stream",
     "text": [
      "staked 2141060789870473260499710 2141060789870473260499710 2.1410607898704733e+24\n",
      "unstaked 2141058997287102022089960 2141058997287102022089960 1.7925833712226796e+18\n",
      "unstaked 1792583371238409750 1792583371238409750 -15730176.0\n"
     ]
    }
   ],
   "source": [
    "import pandas as pd\n",
    "\n",
    "staking_events = pd.read_csv('StakingEvents2024-12-18.csv')\n",
    "\n",
    "timestamp_list = staking_events['timestamp']\n",
    "st_prov_list = staking_events.staking_provider.unique().tolist()\n",
    "\n",
    "stakes_history = pd.DataFrame(\n",
    "    index=timestamp_list, columns=st_prov_list, dtype=int)\n",
    "\n",
    "for index, row in staking_events.iterrows():\n",
    "    if index == 0:\n",
    "        stakes_history.iloc[index] = 0\n",
    "        stakes_history.at[row.timestamp, row.staking_provider] = int(row.amount)\n",
    "    else:\n",
    "        stakes_history.iloc[index] = stakes_history.iloc[index - 1]\n",
    "        if row.event == \"staked\":\n",
    "            stakes_history.at[row.timestamp, row.staking_provider] = int(row.amount)\n",
    "        elif row.event == \"toppedUp\":\n",
    "            stakes_history.at[row.timestamp,\n",
    "                              row.staking_provider] += int(row.amount)\n",
    "        elif row.event == \"unstaked\":\n",
    "            stakes_history.at[row.timestamp,\n",
    "                              row.staking_provider] -= int(row.amount)\n",
    "        if (row.staking_provider == \"0xcef1b4bf8f05f623a2a688b56d9da679d302eba7\"):\n",
    "            print(row.event, row.amount, int(row.amount), stakes_history.at[row.timestamp, row.staking_provider])\n",
    "\n",
    "stakes_history.to_csv('StakesHistory2024-12-18.csv')"
   ]
  },
  {
   "cell_type": "code",
   "execution_count": null,
   "metadata": {},
   "outputs": [],
   "source": []
  },
  {
   "cell_type": "code",
   "execution_count": null,
   "metadata": {},
   "outputs": [],
   "source": []
  }
 ],
 "metadata": {
  "kernelspec": {
   "display_name": "jupyter",
   "language": "python",
   "name": "python3"
  },
  "language_info": {
   "codemirror_mode": {
    "name": "ipython",
    "version": 3
   },
   "file_extension": ".py",
   "mimetype": "text/x-python",
   "name": "python",
   "nbconvert_exporter": "python",
   "pygments_lexer": "ipython3",
   "version": "3.11.6"
  }
 },
 "nbformat": 4,
 "nbformat_minor": 2
}
