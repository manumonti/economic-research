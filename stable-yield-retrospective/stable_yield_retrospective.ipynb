{
 "cells": [
  {
   "cell_type": "markdown",
   "metadata": {},
   "source": [
    "# Stable Yield Retrospective\n",
    "Quantitative evaluation of stable yield success criteria and modeling of TACo staker longevity / cohort degradation."
   ]
  },
  {
   "cell_type": "markdown",
   "metadata": {},
   "source": [
    "The following code will import necessary packages and set UPDATE variable. When `UPDATE` is `True`, the Dune queries will be executed so the data to be analyzed will be updated, i.e., the most recent staking, authorizations, etc events will be collected.\n",
    "\n",
    "Note that updating the data will require some API keys (Dune, Infura/Alchemy). Check `README.md` and `.env.example` files for more info.\n",
    "\n",
    "If you are running single cells, you will need to run this one first so packages are imported."
   ]
  },
  {
   "cell_type": "code",
   "execution_count": 1,
   "metadata": {},
   "outputs": [],
   "source": [
    "import os\n",
    "import pandas as pd\n",
    "import dotenv\n",
    "from dune_client.client import DuneClient\n",
    "from dune_client.query import QueryBase\n",
    "from web3 import Web3\n",
    "from web3.middleware import ExtraDataToPOAMiddleware\n",
    "\n",
    "# Set to True to update the data from Dune\n",
    "UPDATE = True\n",
    "\n",
    "dotenv.load_dotenv(\".env\")\n",
    "\n",
    "coordinator_abi = '[ { \"inputs\": [ { \"internalType\": \"uint256\", \"name\": \"ritualId\", \"type\": \"uint256\" } ], \"name\": \"rituals\", \"outputs\": [ { \"internalType\": \"address\", \"name\": \"initiator\", \"type\": \"address\" }, { \"internalType\": \"uint32\", \"name\": \"initTimestamp\", \"type\": \"uint32\" }, { \"internalType\": \"uint32\", \"name\": \"endTimestamp\", \"type\": \"uint32\" }, { \"internalType\": \"uint16\", \"name\": \"totalTranscripts\", \"type\": \"uint16\" }, { \"internalType\": \"uint16\", \"name\": \"totalAggregations\", \"type\": \"uint16\" }, { \"internalType\": \"address\", \"name\": \"authority\", \"type\": \"address\" }, { \"internalType\": \"uint16\", \"name\": \"dkgSize\", \"type\": \"uint16\" }, { \"internalType\": \"uint16\", \"name\": \"threshold\", \"type\": \"uint16\" }, { \"internalType\": \"bool\", \"name\": \"aggregationMismatch\", \"type\": \"bool\" }, { \"internalType\": \"contract IEncryptionAuthorizer\", \"name\": \"accessController\", \"type\": \"address\" }, { \"components\": [ { \"internalType\": \"bytes32\", \"name\": \"word0\", \"type\": \"bytes32\" }, { \"internalType\": \"bytes16\", \"name\": \"word1\", \"type\": \"bytes16\" } ], \"internalType\": \"struct BLS12381.G1Point\", \"name\": \"publicKey\", \"type\": \"tuple\" }, { \"internalType\": \"bytes\", \"name\": \"aggregatedTranscript\", \"type\": \"bytes\" }, { \"internalType\": \"contract IFeeModel\", \"name\": \"feeModel\", \"type\": \"address\" } ], \"stateMutability\": \"view\", \"type\": \"function\" } ]'"
   ]
  },
  {
   "cell_type": "markdown",
   "metadata": {},
   "source": [
    "## Staking activity\n",
    "Collection, sorting and analisys of Threshold Network staking activity."
   ]
  },
  {
   "cell_type": "markdown",
   "metadata": {},
   "source": [
    "### Update staking events\n",
    "The following code will collect all the staking events up to current date from a Dune query ([Threshold Network Staking Events Dune query](./ThresholdNetworkStakingEvents.sql)) and update [raw_staking_events.csv](./raw_authorization_events.csv) file."
   ]
  },
  {
   "cell_type": "code",
   "execution_count": 2,
   "metadata": {},
   "outputs": [
    {
     "name": "stderr",
     "output_type": "stream",
     "text": [
      "2025-01-24 11:10:19,131 INFO dune_client.api.base executing 4418882 on medium cluster\n",
      "2025-01-24 11:10:19,438 INFO dune_client.api.base waiting for query execution 01JJBWN13QFCXTDAZZ0N01P8AD to complete: ExecutionState.PENDING (queue position: 5)\n",
      "2025-01-24 11:10:20,516 INFO dune_client.api.base waiting for query execution 01JJBWN13QFCXTDAZZ0N01P8AD to complete: ExecutionState.PENDING (queue position: 5)\n",
      "2025-01-24 11:10:21,596 INFO dune_client.api.base waiting for query execution 01JJBWN13QFCXTDAZZ0N01P8AD to complete: ExecutionState.PENDING (queue position: 5)\n",
      "2025-01-24 11:10:22,689 INFO dune_client.api.base waiting for query execution 01JJBWN13QFCXTDAZZ0N01P8AD to complete: ExecutionState.PENDING (queue position: 5)\n",
      "2025-01-24 11:10:23,771 INFO dune_client.api.base waiting for query execution 01JJBWN13QFCXTDAZZ0N01P8AD to complete: ExecutionState.EXECUTING\n"
     ]
    }
   ],
   "source": [
    "if UPDATE:\n",
    "    dune = DuneClient.from_env()\n",
    "\n",
    "    query = QueryBase(\n",
    "        name=\"Staking Events\",\n",
    "        query_id=4418882,  # https://dune.com/queries/4418882\n",
    "        params=[],\n",
    "    )\n",
    "\n",
    "    query_results = dune.run_query_dataframe(query=query, performance='medium')\n",
    "    query_results.to_csv('raw_staking_events.csv', index=False)"
   ]
  },
  {
   "cell_type": "markdown",
   "metadata": {},
   "source": [
    "### Generate stake atomic history\n",
    "The resulting data contains the historical amount for each stake. Each row contains the general stake status in the moment in which it was updated, i.e the staked, toppedUp or unstaked event was emitted."
   ]
  },
  {
   "cell_type": "code",
   "execution_count": 3,
   "metadata": {},
   "outputs": [],
   "source": [
    "staking_events = pd.read_csv(\n",
    "    'raw_staking_events.csv', dtype={'amount': str})\n",
    "\n",
    "staking_events[\"amount\"] = staking_events[\"amount\"].apply(int)\n",
    "\n",
    "st_prov_list = staking_events.staking_provider.unique().tolist()\n",
    "\n",
    "atomic_stakes_history = pd.DataFrame(\n",
    "    index=staking_events.index, columns=['timestamp']+st_prov_list)\n",
    "\n",
    "for index, row in staking_events.iterrows():\n",
    "    if index == 0:\n",
    "        atomic_stakes_history.iloc[index] = 0\n",
    "        atomic_stakes_history.loc[index, 'timestamp'] = row.timestamp\n",
    "        atomic_stakes_history.loc[index, row.staking_provider] = row.amount\n",
    "    else:\n",
    "        atomic_stakes_history.iloc[index] = atomic_stakes_history.iloc[index - 1]\n",
    "        atomic_stakes_history.loc[index, 'timestamp'] = row.timestamp\n",
    "        if row.event == \"staked\":\n",
    "            atomic_stakes_history.loc[index, row.staking_provider] = row.amount\n",
    "        elif row.event == \"toppedUp\":\n",
    "            atomic_stakes_history.loc[index,\n",
    "                                      row.staking_provider] += row.amount\n",
    "        elif row.event == \"unstaked\":\n",
    "            atomic_stakes_history.loc[index,\n",
    "                                      row.staking_provider] -= row.amount\n",
    "\n",
    "atomic_stakes_history[\"timestamp\"] = pd.to_datetime(\n",
    "    atomic_stakes_history[\"timestamp\"])"
   ]
  },
  {
   "cell_type": "markdown",
   "metadata": {},
   "source": [
    "### Generate stake history in a daily basis\n",
    "The resulting data contains the general state of stakes for each day since the start of the staking mechanism."
   ]
  },
  {
   "cell_type": "code",
   "execution_count": 4,
   "metadata": {},
   "outputs": [],
   "source": [
    "start_date = atomic_stakes_history['timestamp'].iloc[0]\n",
    "end_date = atomic_stakes_history['timestamp'].iloc[-1]\n",
    "\n",
    "dates = pd.date_range(start=start_date, end=end_date, freq='D', normalize=True)\n",
    "\n",
    "precise_stakes_history = pd.DataFrame(index=dates, columns=st_prov_list)\n",
    "\n",
    "for index, row in precise_stakes_history.iterrows():\n",
    "    if index == dates[0]:\n",
    "        precise_stakes_history.iloc[0] = 0\n",
    "    else:\n",
    "        precise_stakes_history.loc[index] = precise_stakes_history.loc[index -\n",
    "                                                                       pd.Timedelta(days=1)]\n",
    "\n",
    "        day_events = atomic_stakes_history.loc[(atomic_stakes_history['timestamp'] < index) & (\n",
    "            atomic_stakes_history['timestamp'] >= index - pd.Timedelta(days=1))]\n",
    "\n",
    "        if not day_events.empty:\n",
    "            precise_stakes_history.loc[index] = day_events.iloc[-1]\n",
    "\n",
    "precise_stakes_history.to_csv('stakes_history.csv')"
   ]
  },
  {
   "cell_type": "markdown",
   "metadata": {},
   "source": [
    "### Staking historical data analysis\n",
    "Some plots showing the evolution of Threshold Network staking."
   ]
  },
  {
   "cell_type": "code",
   "execution_count": 5,
   "metadata": {},
   "outputs": [
    {
     "data": {
      "text/plain": [
       "<Axes: title={'center': 'Total Staked Amount'}>"
      ]
     },
     "execution_count": 5,
     "metadata": {},
     "output_type": "execute_result"
    },
    {
     "data": {
      "image/png": "[encoded data removed]",
      "text/plain": [
       "<Figure size 640x480 with 1 Axes>"
      ]
     },
     "metadata": {},
     "output_type": "display_data"
    }
   ],
   "source": [
    "stakes_history = precise_stakes_history.map(\n",
    "    lambda amount: int(amount/1e18))\n",
    "\n",
    "stakes_history.sum(axis=1).plot(\n",
    "    title='Total Staked Amount', grid=True)"
   ]
  },
  {
   "cell_type": "markdown",
   "metadata": {},
   "source": [
    "## Application authorizations activity\n",
    "Collection, sorting and analisys of Threshold Network applications authorizations activity.\n",
    "\n",
    "Note that, although at this moment the Threshold Network host two applications (tBTC and TACo), technically these are made up of three different decentralized applications:\n",
    "\n",
    "- Random Beacon: part of tBTC app.\n",
    "- Wallet Registry (a.k.a tBTC): part of tBTC app.\n",
    "- TACo."
   ]
  },
  {
   "cell_type": "markdown",
   "metadata": {},
   "source": [
    "### Update applications authorization events\n",
    "The following code will collect all the apps authorization events up to current date from a Dune query([Threshold Network Authorization Events Dune query](./ThresholdNetworkAuthorizationEvents.sql)) and update [raw_authorization_events.csv](./raw_authorization_events.csv) file."
   ]
  },
  {
   "cell_type": "code",
   "execution_count": 6,
   "metadata": {},
   "outputs": [
    {
     "name": "stderr",
     "output_type": "stream",
     "text": [
      "2025-01-24 11:10:26,596 INFO dune_client.api.base executing 4544121 on medium cluster\n",
      "2025-01-24 11:10:26,885 INFO dune_client.api.base waiting for query execution 01JJBWN8CBKVM3KD260WMVQBGT to complete: ExecutionState.PENDING (queue position: 5)\n",
      "2025-01-24 11:10:27,968 INFO dune_client.api.base waiting for query execution 01JJBWN8CBKVM3KD260WMVQBGT to complete: ExecutionState.EXECUTING\n"
     ]
    }
   ],
   "source": [
    "if UPDATE:\n",
    "    dune = DuneClient.from_env()\n",
    "\n",
    "    query = QueryBase(\n",
    "        name=\"Apps Authorization Events\",\n",
    "        query_id=4544121,  # https://dune.com/queries/4544121\n",
    "        params=[],\n",
    "    )\n",
    "\n",
    "    query_results = dune.run_query_dataframe(query=query, performance='medium')\n",
    "    query_results.to_csv('raw_authorization_events.csv', index=False)"
   ]
  },
  {
   "cell_type": "markdown",
   "metadata": {},
   "source": [
    "### Generate apps authorizations atomic history\n",
    "The resulting data contains the historical auhorization balance of each stake for each application (TACo, tBTC, Random Beacon). The time index is the time in which each event was emitted.\n",
    "\n",
    "Note that this will take a while (~4 min using MacBook Pro M1)."
   ]
  },
  {
   "cell_type": "code",
   "execution_count": 7,
   "metadata": {},
   "outputs": [],
   "source": [
    "auth_events = pd.read_csv('raw_authorization_events.csv',\n",
    "                          dtype={'amount_variation': str, 'current_balance': str})\n",
    "\n",
    "auth_events['amount_variation'] = auth_events['amount_variation'].apply(int)\n",
    "auth_events['current_balance'] = auth_events['current_balance'].apply(int)\n",
    "\n",
    "st_prov_list = auth_events.staking_provider.unique().tolist()\n",
    "\n",
    "auth_history_columns = []\n",
    "\n",
    "for st_prov in st_prov_list:\n",
    "    auth_history_columns.append((st_prov, 'taco'))\n",
    "    auth_history_columns.append((st_prov, 'tbtc'))\n",
    "    auth_history_columns.append((st_prov, 'randombeacon'))\n",
    "\n",
    "atomic_auth_history = pd.DataFrame(\n",
    "    index=auth_events.index, columns=auth_history_columns)\n",
    "atomic_auth_history.columns = pd.MultiIndex.from_tuples(\n",
    "    atomic_auth_history.columns, names=['staking_provider', 'app'])\n",
    "atomic_auth_history.insert(0, 'timestamp', pd.Series(dtype='str'), True)\n",
    "\n",
    "for index, row in auth_events.iterrows():\n",
    "    if index == 0:\n",
    "        atomic_auth_history.iloc[index] = 0\n",
    "\n",
    "    else:\n",
    "        atomic_auth_history.iloc[index] = atomic_auth_history.iloc[index - 1]\n",
    "\n",
    "    atomic_auth_history.loc[index, 'timestamp'] = row.timestamp\n",
    "    atomic_auth_history.loc[index, (row.staking_provider,\n",
    "                                    row.application)] = row.current_balance\n",
    "\n",
    "atomic_auth_history[\"timestamp\"] = pd.to_datetime(\n",
    "    atomic_auth_history[\"timestamp\"])"
   ]
  },
  {
   "cell_type": "markdown",
   "metadata": {},
   "source": [
    "### Generate authorization history in a daily basis\n",
    "\n",
    "The resulting data contains the state of authorizations for each day since the start of staking mechanism."
   ]
  },
  {
   "cell_type": "code",
   "execution_count": 8,
   "metadata": {},
   "outputs": [],
   "source": [
    "start_date = atomic_auth_history['timestamp'].iloc[0]\n",
    "end_date = atomic_auth_history['timestamp'].iloc[-1]\n",
    "\n",
    "dates = pd.date_range(start=start_date, end=end_date, freq='D', normalize=True)\n",
    "\n",
    "auth_history_daily = pd.DataFrame(index=dates, columns=auth_history_columns)\n",
    "auth_history_daily.columns = pd.MultiIndex.from_tuples(\n",
    "    auth_history_daily.columns, names=['staking_provider', 'app'])\n",
    "\n",
    "for index, row in auth_history_daily.iterrows():\n",
    "    if index == dates[0]:\n",
    "        auth_history_daily.iloc[0] = 0\n",
    "\n",
    "    else:\n",
    "        auth_history_daily.loc[index] = auth_history_daily.loc[index -\n",
    "                                                               pd.Timedelta(days=1)]\n",
    "\n",
    "        day_events = atomic_auth_history.loc[(atomic_auth_history['timestamp'] < index) & (\n",
    "            atomic_auth_history['timestamp'] >= index - pd.Timedelta(days=1))]\n",
    "\n",
    "        if not day_events.empty:\n",
    "            auth_history_daily.loc[index] = day_events.iloc[-1]\n",
    "\n",
    "auth_history_daily.to_csv('auths_history.csv')"
   ]
  },
  {
   "cell_type": "markdown",
   "metadata": {},
   "source": [
    "### Apps authorizations historical data analysis\n",
    "\n",
    "Some plots showing the evolution of Threshold Network apps authorizations."
   ]
  },
  {
   "cell_type": "code",
   "execution_count": 9,
   "metadata": {},
   "outputs": [
    {
     "data": {
      "text/plain": [
       "MultiIndex([(1, 3, 5),\n",
       "            (2, 4, 6)],\n",
       "           names=['x', 'y', 'z'])"
      ]
     },
     "execution_count": 9,
     "metadata": {},
     "output_type": "execute_result"
    }
   ],
   "source": [
    "mi = pd.MultiIndex.from_arrays([[1, 2], [3, 4], [5, 6]], names=['x', 'y', 'z'])\n",
    "\n",
    "mi"
   ]
  },
  {
   "cell_type": "code",
   "execution_count": 10,
   "metadata": {},
   "outputs": [
    {
     "data": {
      "text/plain": [
       "<Axes: title={'center': 'Cumulative app authorizations'}>"
      ]
     },
     "execution_count": 10,
     "metadata": {},
     "output_type": "execute_result"
    },
    {
     "data": {
      "image/png": "[encoded data removed]",
      "text/plain": [
       "<Figure size 640x480 with 1 Axes>"
      ]
     },
     "metadata": {},
     "output_type": "display_data"
    }
   ],
   "source": [
    "tbtc_auth_history = auth_history_daily.loc[:, (slice(\n",
    "    None), 'tbtc')].map(lambda auth: int(auth/1e18))\n",
    "tbtc_auth_history.columns = tbtc_auth_history.columns.droplevel('app')\n",
    "\n",
    "rb_auth_history = auth_history_daily.loc[:, (slice(None), 'randombeacon')].map(\n",
    "    lambda auth: int(auth/1e18))\n",
    "rb_auth_history.columns = rb_auth_history.columns.droplevel('app')\n",
    "\n",
    "taco_auth_history = auth_history_daily.loc[:, (slice(\n",
    "    None), 'taco')].map(lambda auth: int(auth/1e18))\n",
    "taco_auth_history.columns = taco_auth_history.columns.droplevel('app')\n",
    "\n",
    "tbtc_auth_history.sum(axis=1).plot(\n",
    "    title='Cumulative app authorizations', grid=True, legend=True, label='tBTC')\n",
    "rb_auth_history.sum(axis=1).plot(title='Cumulative app authorizations',\n",
    "                                 grid=True, legend=True, label='Random Beacon')\n",
    "taco_auth_history.sum(axis=1).plot(\n",
    "    title='Cumulative app authorizations', grid=True, legend=True, label='TACo')"
   ]
  },
  {
   "cell_type": "markdown",
   "metadata": {},
   "source": [
    "## Ritual cohorts activity\n",
    "This section is aimed to analyze the longevity / degradation of cohorts involved on TACo rituals. This will take as a representative sample cohorts of at least a certain size involved in TACo rituals."
   ]
  },
  {
   "cell_type": "markdown",
   "metadata": {},
   "source": [
    "### Update cohorts data\n",
    "The following code will collect all the succesfully completed rituals up to current date from a Dune query ([Threshold Network Successful TACo Rituals](./ThresholdNetworkSuccessfulTACoRituals.sql)) and update [rituals.csv](./rituals.csv) file.\n",
    "\n",
    "Updating the cohorts data will require some calls to the coordinator contract, so a Infura/Alchemy API key must be set. Check [README](./README.md).\n",
    "\n",
    "**Note** that the ritual participant addresses shown here is the original cohort, i.e., the addresses selected when the ritual was created. It is expected that the coordinator's contract will implement the ability to substitute ritual participants, but this is not contemplated here."
   ]
  },
  {
   "cell_type": "code",
   "execution_count": 11,
   "metadata": {},
   "outputs": [
    {
     "name": "stderr",
     "output_type": "stream",
     "text": [
      "2025-01-24 11:14:27,774 INFO dune_client.api.base executing 4577616 on medium cluster\n",
      "2025-01-24 11:14:28,091 INFO dune_client.api.base waiting for query execution 01JJBWWKY246RKTDBTGGPQBZKN to complete: ExecutionState.PENDING (queue position: 5)\n",
      "2025-01-24 11:14:29,179 INFO dune_client.api.base waiting for query execution 01JJBWWKY246RKTDBTGGPQBZKN to complete: ExecutionState.EXECUTING\n",
      "2025-01-24 11:14:30,263 INFO dune_client.api.base waiting for query execution 01JJBWWKY246RKTDBTGGPQBZKN to complete: ExecutionState.EXECUTING\n"
     ]
    }
   ],
   "source": [
    "if UPDATE:\n",
    "    dune = DuneClient.from_env()\n",
    "\n",
    "    w3 = Web3(Web3.HTTPProvider(os.getenv('POLYGON_URL_ENDPOINT')))\n",
    "    w3.middleware_onion.inject(ExtraDataToPOAMiddleware, layer=0)\n",
    "\n",
    "    coordinator = w3.eth.contract(\n",
    "        address=\"0xE74259e3dafe30bAA8700238e324b47aC98FE755\", abi=coordinator_abi)\n",
    "\n",
    "    query = QueryBase(\n",
    "        name=\"Apps Authorization Events\",\n",
    "        query_id=4577616,  # https://dune.com/queries/4577616\n",
    "        params=[],\n",
    "    )\n",
    "\n",
    "    df = dune.run_query_dataframe(query=query, performance='medium')\n",
    "\n",
    "    initTimestamps = []\n",
    "    endTimestamps = []\n",
    "\n",
    "    for ritualId in df.ritualId.tolist():\n",
    "        try:\n",
    "            init_unix_timestamp = coordinator.functions.rituals(ritualId).call()[\n",
    "                1]\n",
    "            end_unix_timestamp = coordinator.functions.rituals(ritualId).call()[\n",
    "                2]\n",
    "        # coordinator doesn't return data correctly for some rituals\n",
    "        except:\n",
    "            init_unix_timestamp = 0\n",
    "            end_unix_timestamp = 0\n",
    "\n",
    "        init_timestamp = pd.Timestamp(init_unix_timestamp, unit='s')\n",
    "        end_timestamp = pd.Timestamp(end_unix_timestamp, unit='s')\n",
    "\n",
    "        initTimestamps.append(init_timestamp)\n",
    "        endTimestamps.append(end_timestamp)\n",
    "\n",
    "    rituals = pd.DataFrame({'ritual_id': df.ritualId, 'init_timestamp': initTimestamps,\n",
    "                           'end_timestamp': endTimestamps, 'participants': df.participants})\n",
    "\n",
    "    # some rituals have to be discarded since coordinator doesn't return the data correctly\n",
    "    first_ritual_date = pd.Timestamp('2023-12-18')\n",
    "    rituals = rituals[(rituals['init_timestamp'] > first_ritual_date) & (\n",
    "        rituals['end_timestamp'] > first_ritual_date)]\n",
    "\n",
    "    rituals.to_csv('rituals.csv', index=False)"
   ]
  },
  {
   "cell_type": "markdown",
   "metadata": {},
   "source": [
    "### Analyze cohorts degradation\n",
    "\n",
    "This code is going to take as sample the three most recently expired rituals with a cohort size of, at least, a certain value. The longevity and degradation of these cohorts is analized."
   ]
  },
  {
   "cell_type": "code",
   "execution_count": 12,
   "metadata": {},
   "outputs": [],
   "source": [
    "MIN_COHORT_SIZE = 30\n",
    "\n",
    "rituals = pd.read_csv('rituals.csv', parse_dates=[\n",
    "                      'init_timestamp', 'end_timestamp'])\n",
    "rituals.participants = rituals.participants.apply(\n",
    "    lambda x: x.strip('[]').split())\n",
    "rituals['num_participants'] = rituals.participants.apply(len)\n",
    "\n",
    "rituals_sample = rituals.loc[(rituals.num_participants >= MIN_COHORT_SIZE) & (\n",
    "    rituals.end_timestamp <= pd.Timestamp.now())]\n",
    "\n",
    "# taking the three most recent expired rituals\n",
    "rituals_sample = rituals_sample.sort_values(by='end_timestamp').tail(3)\n",
    "\n",
    "# TODO iterate over the three rituals\n",
    "\n",
    "# get the authorization amount over time\n",
    "# rituals_sample.iloc[0].participants\n",
    "# taco_auth_history.dtypes"
   ]
  }
 ],
 "metadata": {
  "kernelspec": {
   "display_name": "jupyter",
   "language": "python",
   "name": "python3"
  },
  "language_info": {
   "codemirror_mode": {
    "name": "ipython",
    "version": 3
   },
   "file_extension": ".py",
   "mimetype": "text/x-python",
   "name": "python",
   "nbconvert_exporter": "python",
   "pygments_lexer": "ipython3",
   "version": "3.11.6"
  }
 },
 "nbformat": 4,
 "nbformat_minor": 2
}
