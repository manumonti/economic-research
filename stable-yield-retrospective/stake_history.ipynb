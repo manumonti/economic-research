{
 "cells": [
  {
   "cell_type": "markdown",
   "metadata": {},
   "source": [
    "# Raw staking events to staker activity table Script\n",
    "This script converts the staking events data returned by [Threshold Network Staking Event Dune query](./ThresholdNetworkStakingEvents.sql) to a table that contains stake activity history."
   ]
  },
  {
   "cell_type": "markdown",
   "metadata": {},
   "source": [
    "## Update Staking Events\n",
    "The following code will collect all the staking events up to current date from a Dune query and update `raw_staking_events.csv` file.\n",
    "\n",
    "To enable this update, it is needed to set `UPDATE` variable to `True`.\n",
    "\n",
    "Note that an Dune's API Key is needed. Check `README.md` file for more info."
   ]
  },
  {
   "cell_type": "code",
   "execution_count": 1,
   "metadata": {},
   "outputs": [],
   "source": [
    "import pandas as pd\n",
    "import dotenv\n",
    "from dune_client.client import DuneClient\n",
    "from dune_client.query import QueryBase\n",
    "\n",
    "# Set to True to update the data from Dune\n",
    "UPDATE = False\n",
    "\n",
    "dotenv.load_dotenv(\".env\")\n",
    "\n",
    "if UPDATE:\n",
    "    dune = DuneClient.from_env()\n",
    "\n",
    "    query = QueryBase(\n",
    "        name=\"Staking Events\",\n",
    "        query_id=4418882,  # https://dune.com/queries/4418882\n",
    "        params=[],\n",
    "    )\n",
    "\n",
    "    query_results = dune.run_query_dataframe(query=query, performance='medium')\n",
    "    query_results.to_csv('raw_staking_events.csv', index=False)"
   ]
  },
  {
   "cell_type": "markdown",
   "metadata": {},
   "source": [
    "## Generate atomic stake history\n",
    "The resulting data contains the historical amount for each stake. Each row contains the general stake status in the moment in which it was updated, i.e the staked, toppedUp or unstaked event was emitted."
   ]
  },
  {
   "cell_type": "code",
   "execution_count": 2,
   "metadata": {},
   "outputs": [],
   "source": [
    "staking_events = pd.read_csv(\n",
    "    'raw_staking_events.csv', dtype={'amount': str})\n",
    "\n",
    "staking_events[\"amount\"] = staking_events[\"amount\"].apply(int)\n",
    "\n",
    "st_prov_list = staking_events.staking_provider.unique().tolist()\n",
    "\n",
    "atomic_stakes_history = pd.DataFrame(\n",
    "    index=staking_events.index, columns=['timestamp']+st_prov_list)\n",
    "\n",
    "for index, row in staking_events.iterrows():\n",
    "    if index == 0:\n",
    "        atomic_stakes_history.iloc[index] = 0\n",
    "        atomic_stakes_history.loc[index, 'timestamp'] = row.timestamp\n",
    "        atomic_stakes_history.loc[index, row.staking_provider] = row.amount\n",
    "    else:\n",
    "        atomic_stakes_history.iloc[index] = atomic_stakes_history.iloc[index - 1]\n",
    "        atomic_stakes_history.loc[index, 'timestamp'] = row.timestamp\n",
    "        if row.event == \"staked\":\n",
    "            atomic_stakes_history.loc[index, row.staking_provider] = row.amount\n",
    "        elif row.event == \"toppedUp\":\n",
    "            atomic_stakes_history.loc[index,\n",
    "                                      row.staking_provider] += row.amount\n",
    "        elif row.event == \"unstaked\":\n",
    "            atomic_stakes_history.loc[index,\n",
    "                                      row.staking_provider] -= row.amount\n",
    "\n",
    "atomic_stakes_history[\"timestamp\"] = pd.to_datetime(\n",
    "    atomic_stakes_history[\"timestamp\"])"
   ]
  },
  {
   "cell_type": "markdown",
   "metadata": {},
   "source": [
    "## Generate stake history in a daily basis\n",
    "The resulting data contains the general state of stakes for each day since the start of the staking mechanism."
   ]
  },
  {
   "cell_type": "code",
   "execution_count": 3,
   "metadata": {},
   "outputs": [],
   "source": [
    "start_date = atomic_stakes_history['timestamp'].iloc[0]\n",
    "end_date = atomic_stakes_history['timestamp'].iloc[-1]\n",
    "\n",
    "dates = pd.date_range(start=start_date, end=end_date, freq='D', normalize=True)\n",
    "\n",
    "precise_stakes_history = pd.DataFrame(index=dates, columns=st_prov_list)\n",
    "\n",
    "for index, row in precise_stakes_history.iterrows():\n",
    "    if index == dates[0]:\n",
    "        precise_stakes_history.iloc[0] = 0\n",
    "    else:\n",
    "        precise_stakes_history.loc[index] = precise_stakes_history.loc[index -\n",
    "                                                                       pd.Timedelta(days=1)]\n",
    "\n",
    "        day_events = atomic_stakes_history.loc[(atomic_stakes_history['timestamp'] < index) & (\n",
    "            atomic_stakes_history['timestamp'] >= index - pd.Timedelta(days=1))]\n",
    "\n",
    "        if not day_events.empty:\n",
    "            precise_stakes_history.loc[index] = day_events.iloc[-1]\n",
    "\n",
    "precise_stakes_history.to_csv('StakesHistory.csv')"
   ]
  },
  {
   "cell_type": "markdown",
   "metadata": {},
   "source": [
    "## Historical data\n",
    "Some plots showing the evolution of the stable yield mechanism."
   ]
  },
  {
   "cell_type": "code",
   "execution_count": 4,
   "metadata": {},
   "outputs": [
    {
     "data": {
      "text/plain": [
       "<Axes: title={'center': 'Total Staked Amount'}>"
      ]
     },
     "execution_count": 4,
     "metadata": {},
     "output_type": "execute_result"
    },
    {
     "data": {
      "image/png": "[encoded data removed]",
      "text/plain": [
       "<Figure size 640x480 with 1 Axes>"
      ]
     },
     "metadata": {},
     "output_type": "display_data"
    }
   ],
   "source": [
    "stakes_history = precise_stakes_history.map(\n",
    "    lambda amount: int(amount/1e18))\n",
    "\n",
    "stakes_history.sum(axis=1).plot(\n",
    "    title='Total Staked Amount', grid=True)"
   ]
  }
 ],
 "metadata": {
  "kernelspec": {
   "display_name": "jupyter",
   "language": "python",
   "name": "python3"
  },
  "language_info": {
   "codemirror_mode": {
    "name": "ipython",
    "version": 3
   },
   "file_extension": ".py",
   "mimetype": "text/x-python",
   "name": "python",
   "nbconvert_exporter": "python",
   "pygments_lexer": "ipython3",
   "version": "3.11.6"
  }
 },
 "nbformat": 4,
 "nbformat_minor": 2
}
